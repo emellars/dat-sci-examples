{
 "cells": [
  {
   "cell_type": "code",
   "execution_count": 62,
   "metadata": {},
   "outputs": [],
   "source": [
    "from IPython.core.interactiveshell import InteractiveShell\n",
    "InteractiveShell.ast_node_interactivity = \"all\"\n",
    "\n",
    "import pandas as pd\n",
    "import numpy as np\n",
    "\n",
    "from sklearn import linear_model\n",
    "\n",
    "import scipy.io.wavfile as wavfile"
   ]
  },
  {
   "cell_type": "code",
   "execution_count": 63,
   "metadata": {},
   "outputs": [],
   "source": [
    "#Using linear regression on the start of 50 audio samples to extrapolate the rest of the data.\n",
    "\n",
    "#Percentage of audio clip kept.\n",
    "Provided_Portion = 0.25\n",
    "\n",
    "#Load in the 50 sample recordings from the Free-Spoken-Digits-Dataset (https://github.com/Jakobovski/free-spoken-digit-dataset/tree/master/recordings).\n",
    "audio_files = [wavfile.read(\"data/free-spoken-digit-dataset-master/recordings/0_jackson_{}.wav\".format(n))[1] for n in range(50)]\n",
    "sample_rates = [wavfile.read(\"data/free-spoken-digit-dataset-master/recordings/0_jackson_{}.wav\".format(n))[0] for n in range(50)]\n",
    "audio_files = pd.DataFrame(audio_files, dtype=np.int16).dropna(axis=1).values\n",
    "\n",
    "n_audio_samples = audio_files.shape[1]"
   ]
  },
  {
   "cell_type": "code",
   "execution_count": 64,
   "metadata": {},
   "outputs": [],
   "source": [
    "model = linear_model.LinearRegression()\n",
    "\n",
    "#Randomly select an audio file as the test data.\n",
    "np.random.seed(17)\n",
    "random_idx = np.random.randint(audio_files.shape[0])\n",
    "\n",
    "test  = audio_files[random_idx]\n",
    "sample_rate = sample_rates[random_idx]\n",
    "train = np.delete(audio_files, [random_idx], axis=0)"
   ]
  },
  {
   "cell_type": "code",
   "execution_count": 65,
   "metadata": {},
   "outputs": [
    {
     "data": {
      "text/plain": [
       "(49, 4087)"
      ]
     },
     "execution_count": 65,
     "metadata": {},
     "output_type": "execute_result"
    },
    {
     "data": {
      "text/plain": [
       "(4087,)"
      ]
     },
     "execution_count": 65,
     "metadata": {},
     "output_type": "execute_result"
    }
   ],
   "source": [
    "train.shape\n",
    "test.shape"
   ]
  },
  {
   "cell_type": "code",
   "execution_count": 66,
   "metadata": {},
   "outputs": [],
   "source": [
    "wavfile.write('Original Test Clip.wav', sample_rate, test)"
   ]
  },
  {
   "cell_type": "code",
   "execution_count": 67,
   "metadata": {},
   "outputs": [
    {
     "data": {
      "text/plain": [
       "LinearRegression(copy_X=True, fit_intercept=True, n_jobs=None,\n",
       "         normalize=False)"
      ]
     },
     "execution_count": 67,
     "metadata": {},
     "output_type": "execute_result"
    },
    {
     "data": {
      "text/plain": [
       "array([[-3697, -2611,  -950, ...,   365,   -91,  -482]], dtype=int16)"
      ]
     },
     "execution_count": 67,
     "metadata": {},
     "output_type": "execute_result"
    },
    {
     "name": "stdout",
     "output_type": "stream",
     "text": [
      "Extrapolation R^2 Score:  0.0\n"
     ]
    }
   ],
   "source": [
    "split = int(Provided_Portion*n_audio_samples)\n",
    "X_test = test[:split].reshape(1, -1)\n",
    "y_test = test[split:].reshape(1, -1)\n",
    "\n",
    "X_train = train[:, :split]\n",
    "y_train = train[:, split:]\n",
    "\n",
    "model.fit(X_train, y_train)\n",
    "y_test_prediction = model.predict(X_test).astype(dtype=np.int16)\n",
    "y_test_prediction\n",
    "\n",
    "#Note the low score below is not suprising. It had to extrapolate three times further than the training data. Nevertheless, the extrapolated audio is understandable.\n",
    "score = model.score(X_test, y_test)\n",
    "print(\"Extrapolation R^2 Score: \", score)"
   ]
  },
  {
   "cell_type": "code",
   "execution_count": 68,
   "metadata": {},
   "outputs": [],
   "source": [
    "completed_clip = np.hstack((X_test, y_test_prediction))\n",
    "wavfile.write('Extrapolated Clip.wav', sample_rate, completed_clip[0])"
   ]
  },
  {
   "cell_type": "code",
   "execution_count": null,
   "metadata": {},
   "outputs": [],
   "source": []
  }
 ],
 "metadata": {
  "kernelspec": {
   "display_name": "Python 3",
   "language": "python",
   "name": "python3"
  },
  "language_info": {
   "codemirror_mode": {
    "name": "ipython",
    "version": 3
   },
   "file_extension": ".py",
   "mimetype": "text/x-python",
   "name": "python",
   "nbconvert_exporter": "python",
   "pygments_lexer": "ipython3",
   "version": "3.7.0"
  }
 },
 "nbformat": 4,
 "nbformat_minor": 2
}
